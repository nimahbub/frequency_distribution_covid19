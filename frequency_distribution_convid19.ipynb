{
  "nbformat": 4,
  "nbformat_minor": 0,
  "metadata": {
    "colab": {
      "name": "frequency_distribution_convid19.ipynb",
      "provenance": []
    },
    "kernelspec": {
      "name": "python3",
      "display_name": "Python 3"
    }
  },
  "cells": [
    {
      "cell_type": "code",
      "metadata": {
        "id": "6LQwj8bngmPU",
        "outputId": "67541593-ef48-4dbf-b92a-7e61f606d491",
        "colab": {
          "base_uri": "https://localhost:8080/",
          "height": 34
        }
      },
      "source": [
        "from google.colab import drive\n",
        "drive.mount('/content/gdrive')"
      ],
      "execution_count": null,
      "outputs": [
        {
          "output_type": "stream",
          "text": [
            "Mounted at /content/gdrive\n"
          ],
          "name": "stdout"
        }
      ]
    },
    {
      "cell_type": "code",
      "metadata": {
        "id": "VzTf8_Mqg-EI"
      },
      "source": [
        "# importing necessary libries\n",
        "import pandas as pd\n",
        "import numpy as np\n",
        "import matplotlib.pyplot as plt\n",
        "import seaborn as sns"
      ],
      "execution_count": null,
      "outputs": []
    },
    {
      "cell_type": "code",
      "metadata": {
        "id": "PxsDvuxghCxD"
      },
      "source": [
        "df=pd.read_csv('/content/gdrive/My Drive/ProjectForPaper/Dataset/covid_data.csv')"
      ],
      "execution_count": null,
      "outputs": []
    },
    {
      "cell_type": "code",
      "metadata": {
        "id": "AKWaPCl-hSx6",
        "outputId": "eecc9347-13dd-4a63-8858-8c0ed38a9e6e",
        "colab": {
          "base_uri": "https://localhost:8080/",
          "height": 204
        }
      },
      "source": [
        "df.head()"
      ],
      "execution_count": null,
      "outputs": [
        {
          "output_type": "execute_result",
          "data": {
            "text/html": [
              "<div>\n",
              "<style scoped>\n",
              "    .dataframe tbody tr th:only-of-type {\n",
              "        vertical-align: middle;\n",
              "    }\n",
              "\n",
              "    .dataframe tbody tr th {\n",
              "        vertical-align: top;\n",
              "    }\n",
              "\n",
              "    .dataframe thead th {\n",
              "        text-align: right;\n",
              "    }\n",
              "</style>\n",
              "<table border=\"1\" class=\"dataframe\">\n",
              "  <thead>\n",
              "    <tr style=\"text-align: right;\">\n",
              "      <th></th>\n",
              "      <th>tweet_id</th>\n",
              "      <th>created_at</th>\n",
              "      <th>text</th>\n",
              "      <th>loc</th>\n",
              "      <th>user_id</th>\n",
              "      <th>verified</th>\n",
              "    </tr>\n",
              "  </thead>\n",
              "  <tbody>\n",
              "    <tr>\n",
              "      <th>0</th>\n",
              "      <td>1235681413485207552</td>\n",
              "      <td>2020-03-05 21:39:41+00:00</td>\n",
              "      <td>stayfrea alert corona virus spread through mon...</td>\n",
              "      <td>MI</td>\n",
              "      <td>u1</td>\n",
              "      <td>0</td>\n",
              "    </tr>\n",
              "    <tr>\n",
              "      <th>1</th>\n",
              "      <td>1235681419554213888</td>\n",
              "      <td>2020-03-05 21:39:42+00:00</td>\n",
              "      <td>matrodamusic corona virus temporary house musi...</td>\n",
              "      <td>UT</td>\n",
              "      <td>u2</td>\n",
              "      <td>0</td>\n",
              "    </tr>\n",
              "    <tr>\n",
              "      <th>2</th>\n",
              "      <td>1235681419558637568</td>\n",
              "      <td>2020-03-05 21:39:42+00:00</td>\n",
              "      <td>gainbos whole entire world corona virus danger...</td>\n",
              "      <td>TX</td>\n",
              "      <td>u3</td>\n",
              "      <td>0</td>\n",
              "    </tr>\n",
              "    <tr>\n",
              "      <th>3</th>\n",
              "      <td>1235681424809705472</td>\n",
              "      <td>2020-03-05 21:39:44+00:00</td>\n",
              "      <td>ellanjeferguson krystallsheree corona virus</td>\n",
              "      <td>MA</td>\n",
              "      <td>u4</td>\n",
              "      <td>0</td>\n",
              "    </tr>\n",
              "    <tr>\n",
              "      <th>4</th>\n",
              "      <td>1235681424809680896</td>\n",
              "      <td>2020-03-05 21:39:44+00:00</td>\n",
              "      <td>bradleoy corona virus said https wwfteavdch</td>\n",
              "      <td>NJ</td>\n",
              "      <td>u5</td>\n",
              "      <td>0</td>\n",
              "    </tr>\n",
              "  </tbody>\n",
              "</table>\n",
              "</div>"
            ],
            "text/plain": [
              "              tweet_id                 created_at  ... user_id verified\n",
              "0  1235681413485207552  2020-03-05 21:39:41+00:00  ...      u1        0\n",
              "1  1235681419554213888  2020-03-05 21:39:42+00:00  ...      u2        0\n",
              "2  1235681419558637568  2020-03-05 21:39:42+00:00  ...      u3        0\n",
              "3  1235681424809705472  2020-03-05 21:39:44+00:00  ...      u4        0\n",
              "4  1235681424809680896  2020-03-05 21:39:44+00:00  ...      u5        0\n",
              "\n",
              "[5 rows x 6 columns]"
            ]
          },
          "metadata": {
            "tags": []
          },
          "execution_count": 4
        }
      ]
    },
    {
      "cell_type": "code",
      "metadata": {
        "id": "HAn2NvKKhUM4",
        "outputId": "b03912ed-55de-4744-c0ef-b3571a01f911",
        "colab": {
          "base_uri": "https://localhost:8080/",
          "height": 34
        }
      },
      "source": [
        "df.shape"
      ],
      "execution_count": null,
      "outputs": [
        {
          "output_type": "execute_result",
          "data": {
            "text/plain": [
              "(7229508, 6)"
            ]
          },
          "metadata": {
            "tags": []
          },
          "execution_count": 5
        }
      ]
    },
    {
      "cell_type": "code",
      "metadata": {
        "id": "ket8hPBTha2P"
      },
      "source": [
        "# taking frist 200k rows and drop remain rows\n",
        "data=df.iloc[:20000,:]"
      ],
      "execution_count": null,
      "outputs": []
    },
    {
      "cell_type": "code",
      "metadata": {
        "id": "q6PrCjcZhrhc",
        "outputId": "a5529edb-e9ed-46ff-c558-ef23796beb4f",
        "colab": {
          "base_uri": "https://localhost:8080/",
          "height": 34
        }
      },
      "source": [
        "data.shape"
      ],
      "execution_count": null,
      "outputs": [
        {
          "output_type": "execute_result",
          "data": {
            "text/plain": [
              "(20000, 6)"
            ]
          },
          "metadata": {
            "tags": []
          },
          "execution_count": 7
        }
      ]
    },
    {
      "cell_type": "markdown",
      "metadata": {
        "id": "aNXFWbXGhy_7"
      },
      "source": [
        "# Text Preprocessing: Stemming, Stop-word removal and Lemmatization"
      ]
    },
    {
      "cell_type": "code",
      "metadata": {
        "id": "E7RMc_Jyhtk3",
        "outputId": "c31c8d48-1754-4bdd-a40b-79bd17594be8",
        "colab": {
          "base_uri": "https://localhost:8080/",
          "height": 68
        }
      },
      "source": [
        "import nltk\n",
        "nltk.download('stopwords')"
      ],
      "execution_count": null,
      "outputs": [
        {
          "output_type": "stream",
          "text": [
            "[nltk_data] Downloading package stopwords to /root/nltk_data...\n",
            "[nltk_data]   Unzipping corpora/stopwords.zip.\n"
          ],
          "name": "stdout"
        },
        {
          "output_type": "execute_result",
          "data": {
            "text/plain": [
              "True"
            ]
          },
          "metadata": {
            "tags": []
          },
          "execution_count": 8
        }
      ]
    },
    {
      "cell_type": "code",
      "metadata": {
        "id": "2wwTMXIAh3bI"
      },
      "source": [
        "import re\n",
        "import string\n",
        "\n",
        "from nltk.corpus import stopwords\n",
        "from nltk.stem import PorterStemmer \n",
        "from nltk.stem.wordnet import WordNetLemmatizer \n",
        "stop = set(stopwords.words('english')) # set of stopwords in english\n",
        "sno = nltk.stem.SnowballStemmer('english') # initialising the snowball stemmer\n",
        "\n",
        "def cleanhtml(sentence): #function to clean the word of any html-tags\n",
        "  cleanr = re.compile('<.*?>')\n",
        "  cleantext = re.sub(cleanr, ' ', sentence)\n",
        "  return cleantext\n",
        "\n",
        "def cleanpunc(sentence): # funciton to clean word of any punction or symbol\n",
        "  cleaned = re.sub(r'[?|!|\\'|\"|#|*|_]',r'',sentence)\n",
        "  cleaned = re.sub(r'[.|,|)|(|\\|/]',r'',cleaned)\n",
        "  return cleaned"
      ],
      "execution_count": null,
      "outputs": []
    },
    {
      "cell_type": "code",
      "metadata": {
        "id": "vwCyAp7DiFYZ"
      },
      "source": [
        "#Code for implementing step-by-step the checks mentioned in the pre-processing phase\n",
        "\n",
        "text=' '\n",
        "final_string=[]\n",
        "s=''\n",
        "for sent in data['text'].values:\n",
        "    filtered_sentence=[]\n",
        "    #print(sent);\n",
        "    sent=cleanhtml(sent) # remove HTMl tags\n",
        "    for w in sent.split():\n",
        "        for cleaned_words in cleanpunc(w).split():\n",
        "            if((cleaned_words.isalpha()) & (len(cleaned_words)>2)):    \n",
        "                if(cleaned_words.lower() not in stop):\n",
        "                    s=(sno.stem(cleaned_words.lower()))\n",
        "                    filtered_sentence.append(s)\n",
        "                    \n",
        "                else:\n",
        "                    continue\n",
        "            else:\n",
        "                continue \n",
        "    #print(filtered_sentence)\n",
        "    text =\" \".join(filtered_sentence) #final string of cleaned words\n",
        "    #print(\"***********************************************************************\")\n",
        "    \n",
        "    final_string.append(text)"
      ],
      "execution_count": null,
      "outputs": []
    },
    {
      "cell_type": "code",
      "metadata": {
        "id": "2aC7H7mjiOh9",
        "outputId": "78ceeaeb-1de8-4c0f-c3d0-79c20b826365",
        "colab": {
          "base_uri": "https://localhost:8080/",
          "height": 119
        }
      },
      "source": [
        "data['CleanedText']=final_string"
      ],
      "execution_count": null,
      "outputs": [
        {
          "output_type": "stream",
          "text": [
            "/usr/local/lib/python3.6/dist-packages/ipykernel_launcher.py:1: SettingWithCopyWarning: \n",
            "A value is trying to be set on a copy of a slice from a DataFrame.\n",
            "Try using .loc[row_indexer,col_indexer] = value instead\n",
            "\n",
            "See the caveats in the documentation: https://pandas.pydata.org/pandas-docs/stable/user_guide/indexing.html#returning-a-view-versus-a-copy\n",
            "  \"\"\"Entry point for launching an IPython kernel.\n"
          ],
          "name": "stderr"
        }
      ]
    },
    {
      "cell_type": "code",
      "metadata": {
        "id": "jg7EAmTwiQv9",
        "outputId": "f9e27021-caf3-48b7-83a0-16a94766e135",
        "colab": {
          "base_uri": "https://localhost:8080/",
          "height": 204
        }
      },
      "source": [
        "data.head()"
      ],
      "execution_count": null,
      "outputs": [
        {
          "output_type": "execute_result",
          "data": {
            "text/html": [
              "<div>\n",
              "<style scoped>\n",
              "    .dataframe tbody tr th:only-of-type {\n",
              "        vertical-align: middle;\n",
              "    }\n",
              "\n",
              "    .dataframe tbody tr th {\n",
              "        vertical-align: top;\n",
              "    }\n",
              "\n",
              "    .dataframe thead th {\n",
              "        text-align: right;\n",
              "    }\n",
              "</style>\n",
              "<table border=\"1\" class=\"dataframe\">\n",
              "  <thead>\n",
              "    <tr style=\"text-align: right;\">\n",
              "      <th></th>\n",
              "      <th>tweet_id</th>\n",
              "      <th>created_at</th>\n",
              "      <th>text</th>\n",
              "      <th>loc</th>\n",
              "      <th>user_id</th>\n",
              "      <th>verified</th>\n",
              "      <th>CleanedText</th>\n",
              "    </tr>\n",
              "  </thead>\n",
              "  <tbody>\n",
              "    <tr>\n",
              "      <th>0</th>\n",
              "      <td>1235681413485207552</td>\n",
              "      <td>2020-03-05 21:39:41+00:00</td>\n",
              "      <td>stayfrea alert corona virus spread through mon...</td>\n",
              "      <td>MI</td>\n",
              "      <td>u1</td>\n",
              "      <td>0</td>\n",
              "      <td>stayfrea alert corona virus spread money money...</td>\n",
              "    </tr>\n",
              "    <tr>\n",
              "      <th>1</th>\n",
              "      <td>1235681419554213888</td>\n",
              "      <td>2020-03-05 21:39:42+00:00</td>\n",
              "      <td>matrodamusic corona virus temporary house musi...</td>\n",
              "      <td>UT</td>\n",
              "      <td>u2</td>\n",
              "      <td>0</td>\n",
              "      <td>matrodamus corona virus temporari hous music f...</td>\n",
              "    </tr>\n",
              "    <tr>\n",
              "      <th>2</th>\n",
              "      <td>1235681419558637568</td>\n",
              "      <td>2020-03-05 21:39:42+00:00</td>\n",
              "      <td>gainbos whole entire world corona virus danger...</td>\n",
              "      <td>TX</td>\n",
              "      <td>u3</td>\n",
              "      <td>0</td>\n",
              "      <td>gainbo whole entir world corona virus danger j...</td>\n",
              "    </tr>\n",
              "    <tr>\n",
              "      <th>3</th>\n",
              "      <td>1235681424809705472</td>\n",
              "      <td>2020-03-05 21:39:44+00:00</td>\n",
              "      <td>ellanjeferguson krystallsheree corona virus</td>\n",
              "      <td>MA</td>\n",
              "      <td>u4</td>\n",
              "      <td>0</td>\n",
              "      <td>ellanjeferguson krystallshere corona virus</td>\n",
              "    </tr>\n",
              "    <tr>\n",
              "      <th>4</th>\n",
              "      <td>1235681424809680896</td>\n",
              "      <td>2020-03-05 21:39:44+00:00</td>\n",
              "      <td>bradleoy corona virus said https wwfteavdch</td>\n",
              "      <td>NJ</td>\n",
              "      <td>u5</td>\n",
              "      <td>0</td>\n",
              "      <td>bradleoy corona virus said https wwfteavdch</td>\n",
              "    </tr>\n",
              "  </tbody>\n",
              "</table>\n",
              "</div>"
            ],
            "text/plain": [
              "              tweet_id  ...                                        CleanedText\n",
              "0  1235681413485207552  ...  stayfrea alert corona virus spread money money...\n",
              "1  1235681419554213888  ...  matrodamus corona virus temporari hous music f...\n",
              "2  1235681419558637568  ...  gainbo whole entir world corona virus danger j...\n",
              "3  1235681424809705472  ...         ellanjeferguson krystallshere corona virus\n",
              "4  1235681424809680896  ...        bradleoy corona virus said https wwfteavdch\n",
              "\n",
              "[5 rows x 7 columns]"
            ]
          },
          "metadata": {
            "tags": []
          },
          "execution_count": 12
        }
      ]
    },
    {
      "cell_type": "code",
      "metadata": {
        "id": "aqyh6htXjBWq"
      },
      "source": [
        "# importing libries for sentiment analysis\n",
        "from textblob import TextBlob\n",
        "from wordcloud import WordCloud"
      ],
      "execution_count": null,
      "outputs": []
    },
    {
      "cell_type": "code",
      "metadata": {
        "id": "2RugCSaWjGA5",
        "outputId": "3164dd37-f5c8-4791-bcae-bc15f0be23d4",
        "colab": {
          "base_uri": "https://localhost:8080/",
          "height": 221
        }
      },
      "source": [
        "# Create a function to get subjectivity and polarity\n",
        "\n",
        "def getSubjectivity(text):\n",
        "    return TextBlob(text).sentiment.subjectivity\n",
        "\n",
        "#Create a function to get polarity\n",
        "def getPolarity(text):\n",
        "    return TextBlob(text).sentiment.polarity\n",
        "\n",
        "#create two new ccolumns\n",
        "\n",
        "data['Subjectivity']=data['CleanedText'].apply(getSubjectivity)\n",
        "data['Polarity']=data['CleanedText'].apply(getPolarity)"
      ],
      "execution_count": null,
      "outputs": [
        {
          "output_type": "stream",
          "text": [
            "/usr/local/lib/python3.6/dist-packages/ipykernel_launcher.py:12: SettingWithCopyWarning: \n",
            "A value is trying to be set on a copy of a slice from a DataFrame.\n",
            "Try using .loc[row_indexer,col_indexer] = value instead\n",
            "\n",
            "See the caveats in the documentation: https://pandas.pydata.org/pandas-docs/stable/user_guide/indexing.html#returning-a-view-versus-a-copy\n",
            "  if sys.path[0] == '':\n",
            "/usr/local/lib/python3.6/dist-packages/ipykernel_launcher.py:13: SettingWithCopyWarning: \n",
            "A value is trying to be set on a copy of a slice from a DataFrame.\n",
            "Try using .loc[row_indexer,col_indexer] = value instead\n",
            "\n",
            "See the caveats in the documentation: https://pandas.pydata.org/pandas-docs/stable/user_guide/indexing.html#returning-a-view-versus-a-copy\n",
            "  del sys.path[0]\n"
          ],
          "name": "stderr"
        }
      ]
    },
    {
      "cell_type": "code",
      "metadata": {
        "id": "gUhm2Ep9jO5v",
        "outputId": "0a5f32c3-466e-47c8-c18d-81bdb0154134",
        "colab": {
          "base_uri": "https://localhost:8080/",
          "height": 119
        }
      },
      "source": [
        "# Create function to compute the negative ,neutral and positive analysis\n",
        "def getAnalysis(score):\n",
        "    if score <0:\n",
        "        return 'Negative'\n",
        "    elif score ==0:\n",
        "        return 'Neutral'\n",
        "    else:\n",
        "        return 'Positive'\n",
        "data['Analysis']=data['Polarity'].apply(getAnalysis)"
      ],
      "execution_count": null,
      "outputs": [
        {
          "output_type": "stream",
          "text": [
            "/usr/local/lib/python3.6/dist-packages/ipykernel_launcher.py:9: SettingWithCopyWarning: \n",
            "A value is trying to be set on a copy of a slice from a DataFrame.\n",
            "Try using .loc[row_indexer,col_indexer] = value instead\n",
            "\n",
            "See the caveats in the documentation: https://pandas.pydata.org/pandas-docs/stable/user_guide/indexing.html#returning-a-view-versus-a-copy\n",
            "  if __name__ == '__main__':\n"
          ],
          "name": "stderr"
        }
      ]
    },
    {
      "cell_type": "code",
      "metadata": {
        "id": "0jQlDA1yjQvu",
        "outputId": "52b61456-0290-4427-cb88-bfd01a1cc1f9",
        "colab": {
          "base_uri": "https://localhost:8080/",
          "height": 289
        }
      },
      "source": [
        "data.head()"
      ],
      "execution_count": null,
      "outputs": [
        {
          "output_type": "execute_result",
          "data": {
            "text/html": [
              "<div>\n",
              "<style scoped>\n",
              "    .dataframe tbody tr th:only-of-type {\n",
              "        vertical-align: middle;\n",
              "    }\n",
              "\n",
              "    .dataframe tbody tr th {\n",
              "        vertical-align: top;\n",
              "    }\n",
              "\n",
              "    .dataframe thead th {\n",
              "        text-align: right;\n",
              "    }\n",
              "</style>\n",
              "<table border=\"1\" class=\"dataframe\">\n",
              "  <thead>\n",
              "    <tr style=\"text-align: right;\">\n",
              "      <th></th>\n",
              "      <th>tweet_id</th>\n",
              "      <th>created_at</th>\n",
              "      <th>text</th>\n",
              "      <th>loc</th>\n",
              "      <th>user_id</th>\n",
              "      <th>verified</th>\n",
              "      <th>CleanedText</th>\n",
              "      <th>Subjectivity</th>\n",
              "      <th>Polarity</th>\n",
              "      <th>Analysis</th>\n",
              "    </tr>\n",
              "  </thead>\n",
              "  <tbody>\n",
              "    <tr>\n",
              "      <th>0</th>\n",
              "      <td>1235681413485207552</td>\n",
              "      <td>2020-03-05 21:39:41+00:00</td>\n",
              "      <td>stayfrea alert corona virus spread through mon...</td>\n",
              "      <td>MI</td>\n",
              "      <td>u1</td>\n",
              "      <td>0</td>\n",
              "      <td>stayfrea alert corona virus spread money money...</td>\n",
              "      <td>0.0</td>\n",
              "      <td>0.0</td>\n",
              "      <td>Neutral</td>\n",
              "    </tr>\n",
              "    <tr>\n",
              "      <th>1</th>\n",
              "      <td>1235681419554213888</td>\n",
              "      <td>2020-03-05 21:39:42+00:00</td>\n",
              "      <td>matrodamusic corona virus temporary house musi...</td>\n",
              "      <td>UT</td>\n",
              "      <td>u2</td>\n",
              "      <td>0</td>\n",
              "      <td>matrodamus corona virus temporari hous music f...</td>\n",
              "      <td>0.0</td>\n",
              "      <td>0.0</td>\n",
              "      <td>Neutral</td>\n",
              "    </tr>\n",
              "    <tr>\n",
              "      <th>2</th>\n",
              "      <td>1235681419558637568</td>\n",
              "      <td>2020-03-05 21:39:42+00:00</td>\n",
              "      <td>gainbos whole entire world corona virus danger...</td>\n",
              "      <td>TX</td>\n",
              "      <td>u3</td>\n",
              "      <td>0</td>\n",
              "      <td>gainbo whole entir world corona virus danger j...</td>\n",
              "      <td>0.4</td>\n",
              "      <td>0.2</td>\n",
              "      <td>Positive</td>\n",
              "    </tr>\n",
              "    <tr>\n",
              "      <th>3</th>\n",
              "      <td>1235681424809705472</td>\n",
              "      <td>2020-03-05 21:39:44+00:00</td>\n",
              "      <td>ellanjeferguson krystallsheree corona virus</td>\n",
              "      <td>MA</td>\n",
              "      <td>u4</td>\n",
              "      <td>0</td>\n",
              "      <td>ellanjeferguson krystallshere corona virus</td>\n",
              "      <td>0.0</td>\n",
              "      <td>0.0</td>\n",
              "      <td>Neutral</td>\n",
              "    </tr>\n",
              "    <tr>\n",
              "      <th>4</th>\n",
              "      <td>1235681424809680896</td>\n",
              "      <td>2020-03-05 21:39:44+00:00</td>\n",
              "      <td>bradleoy corona virus said https wwfteavdch</td>\n",
              "      <td>NJ</td>\n",
              "      <td>u5</td>\n",
              "      <td>0</td>\n",
              "      <td>bradleoy corona virus said https wwfteavdch</td>\n",
              "      <td>0.0</td>\n",
              "      <td>0.0</td>\n",
              "      <td>Neutral</td>\n",
              "    </tr>\n",
              "  </tbody>\n",
              "</table>\n",
              "</div>"
            ],
            "text/plain": [
              "              tweet_id                 created_at  ... Polarity  Analysis\n",
              "0  1235681413485207552  2020-03-05 21:39:41+00:00  ...      0.0   Neutral\n",
              "1  1235681419554213888  2020-03-05 21:39:42+00:00  ...      0.0   Neutral\n",
              "2  1235681419558637568  2020-03-05 21:39:42+00:00  ...      0.2  Positive\n",
              "3  1235681424809705472  2020-03-05 21:39:44+00:00  ...      0.0   Neutral\n",
              "4  1235681424809680896  2020-03-05 21:39:44+00:00  ...      0.0   Neutral\n",
              "\n",
              "[5 rows x 10 columns]"
            ]
          },
          "metadata": {
            "tags": []
          },
          "execution_count": 16
        }
      ]
    },
    {
      "cell_type": "code",
      "metadata": {
        "id": "PuigSRxoj1WG",
        "outputId": "d5645815-c0a1-40a5-93a9-ac44acefb399",
        "colab": {
          "base_uri": "https://localhost:8080/",
          "height": 68
        }
      },
      "source": [
        "data.columns"
      ],
      "execution_count": null,
      "outputs": [
        {
          "output_type": "execute_result",
          "data": {
            "text/plain": [
              "Index(['tweet_id', 'created_at', 'text', 'loc', 'user_id', 'verified',\n",
              "       'CleanedText', 'Subjectivity', 'Polarity', 'Analysis'],\n",
              "      dtype='object')"
            ]
          },
          "metadata": {
            "tags": []
          },
          "execution_count": 17
        }
      ]
    },
    {
      "cell_type": "code",
      "metadata": {
        "id": "C5_UUo-1Kffm",
        "outputId": "d26ab35e-ce7a-4509-96b6-7ef2097486d5",
        "colab": {
          "base_uri": "https://localhost:8080/",
          "height": 34
        }
      },
      "source": [
        "#finding unique locations\n",
        "\n",
        "locations = pd.Series(data['loc'].tolist())\n",
        "unique_loc = len(np.unique(locations))\n",
        "print('Number of unique Location: ',unique_loc)"
      ],
      "execution_count": null,
      "outputs": [
        {
          "output_type": "stream",
          "text": [
            "Number of unique Location:  50\n"
          ],
          "name": "stdout"
        }
      ]
    },
    {
      "cell_type": "code",
      "metadata": {
        "id": "iSYfm7oGS6OW",
        "outputId": "0ee9b8c1-3f68-4058-8480-bf0077c53aa2",
        "colab": {
          "base_uri": "https://localhost:8080/",
          "height": 51
        }
      },
      "source": [
        "print ('Maximum number of times a single location is repeated: {}\\n'.format(max(locations.value_counts())))"
      ],
      "execution_count": null,
      "outputs": [
        {
          "output_type": "stream",
          "text": [
            "Maximum number of times a single location is repeated: 3399\n",
            "\n"
          ],
          "name": "stdout"
        }
      ]
    },
    {
      "cell_type": "code",
      "metadata": {
        "id": "NC6JdlUbYPpx",
        "outputId": "0b9b989a-68fb-4288-cfad-f5b96ef68907",
        "colab": {
          "base_uri": "https://localhost:8080/",
          "height": 573
        }
      },
      "source": [
        "plt.figure(figsize=(20,8))\n",
        "sns.countplot(data['loc'])"
      ],
      "execution_count": null,
      "outputs": [
        {
          "output_type": "stream",
          "text": [
            "/usr/local/lib/python3.6/dist-packages/seaborn/_decorators.py:43: FutureWarning: Pass the following variable as a keyword arg: x. From version 0.12, the only valid positional argument will be `data`, and passing other arguments without an explicit keyword will result in an error or misinterpretation.\n",
            "  FutureWarning\n"
          ],
          "name": "stderr"
        },
        {
          "output_type": "execute_result",
          "data": {
            "text/plain": [
              "<matplotlib.axes._subplots.AxesSubplot at 0x7ff897ae2278>"
            ]
          },
          "metadata": {
            "tags": []
          },
          "execution_count": 58
        },
        {
          "output_type": "display_data",
          "data": {
            "image/png": "[encoded data removed]",
            "text/plain": [
              "<Figure size 1440x576 with 1 Axes>"
            ]
          },
          "metadata": {
            "tags": []
          }
        }
      ]
    },
    {
      "cell_type": "code",
      "metadata": {
        "id": "qtKzHuA9ZQQU",
        "outputId": "ba845ecf-fd93-4ddb-8154-fc8ca975a078",
        "colab": {
          "base_uri": "https://localhost:8080/",
          "height": 465
        }
      },
      "source": [
        "plt.figure(figsize=(10,6))\n",
        "sns.countplot(data['Analysis'])"
      ],
      "execution_count": null,
      "outputs": [
        {
          "output_type": "stream",
          "text": [
            "/usr/local/lib/python3.6/dist-packages/seaborn/_decorators.py:43: FutureWarning: Pass the following variable as a keyword arg: x. From version 0.12, the only valid positional argument will be `data`, and passing other arguments without an explicit keyword will result in an error or misinterpretation.\n",
            "  FutureWarning\n"
          ],
          "name": "stderr"
        },
        {
          "output_type": "execute_result",
          "data": {
            "text/plain": [
              "<matplotlib.axes._subplots.AxesSubplot at 0x7ff8978a6fd0>"
            ]
          },
          "metadata": {
            "tags": []
          },
          "execution_count": 59
        },
        {
          "output_type": "display_data",
          "data": {
            "image/png": "[encoded data removed]",
            "text/plain": [
              "<Figure size 720x432 with 1 Axes>"
            ]
          },
          "metadata": {
            "tags": []
          }
        }
      ]
    },
    {
      "cell_type": "code",
      "metadata": {
        "id": "lo68NzBwZk8M",
        "outputId": "8a2eee4e-054e-47e4-8cf8-a15ee679d5b0",
        "colab": {
          "base_uri": "https://localhost:8080/",
          "height": 519
        }
      },
      "source": [
        "plt.figure(figsize=(20,8))\n",
        "# count plot between location and Sentiment\n",
        "sns.countplot(x ='loc', hue = \"Analysis\", data = data) "
      ],
      "execution_count": null,
      "outputs": [
        {
          "output_type": "execute_result",
          "data": {
            "text/plain": [
              "<matplotlib.axes._subplots.AxesSubplot at 0x7ff89aa52898>"
            ]
          },
          "metadata": {
            "tags": []
          },
          "execution_count": 111
        },
        {
          "output_type": "display_data",
          "data": {
            "image/png": "[encoded data removed]",
            "text/plain": [
              "<Figure size 1440x576 with 1 Axes>"
            ]
          },
          "metadata": {
            "tags": []
          }
        }
      ]
    },
    {
      "cell_type": "code",
      "metadata": {
        "id": "V0vpZkOraeIf",
        "outputId": "da307558-96f4-42cc-e9d6-a905b887bd56",
        "colab": {
          "base_uri": "https://localhost:8080/",
          "height": 502
        }
      },
      "source": [
        "# plot according to most frequent order\n",
        "plt.figure(figsize=(20,8))\n",
        "sns.set(style='darkgrid')\n",
        "sns.countplot(x = 'loc',\n",
        "              data = data,\n",
        "              order = data['loc'].value_counts().index)\n",
        "plt.show()"
      ],
      "execution_count": null,
      "outputs": [
        {
          "output_type": "display_data",
          "data": {
            "image/png": "[encoded data removed]",
            "text/plain": [
              "<Figure size 1440x576 with 1 Axes>"
            ]
          },
          "metadata": {
            "tags": []
          }
        }
      ]
    },
    {
      "cell_type": "code",
      "metadata": {
        "id": "D3ZZ1Sa4cEfb",
        "outputId": "f6726560-6483-422a-9ec7-aaf53dc89b40",
        "colab": {
          "base_uri": "https://localhost:8080/",
          "height": 502
        }
      },
      "source": [
        "plt.figure(figsize=(20,8))\n",
        "sns.set(style='darkgrid')\n",
        "sns.countplot(x = 'loc',\n",
        "              hue = 'Analysis',\n",
        "              data = data,\n",
        "              order = data['loc'].value_counts().index)\n",
        "plt.show()"
      ],
      "execution_count": null,
      "outputs": [
        {
          "output_type": "display_data",
          "data": {
            "image/png": "[encoded data removed]",
            "text/plain": [
              "<Figure size 1440x576 with 1 Axes>"
            ]
          },
          "metadata": {
            "tags": []
          }
        }
      ]
    },
    {
      "cell_type": "markdown",
      "metadata": {
        "id": "-srvnbKhc9KT"
      },
      "source": [
        "# Convert into numeric value using label encoder\n",
        "```\n",
        "\n",
        "```\n",
        "\n"
      ]
    },
    {
      "cell_type": "code",
      "metadata": {
        "id": "rly4wc0chPLd"
      },
      "source": [
        "# copy the dataset\n",
        "\n",
        "copy_data = data.copy()"
      ],
      "execution_count": null,
      "outputs": []
    },
    {
      "cell_type": "code",
      "metadata": {
        "id": "52ZYvXQ7hUGB",
        "outputId": "efda61be-4fc5-4f14-9ba1-d18166ce5d0b",
        "colab": {
          "base_uri": "https://localhost:8080/",
          "height": 589
        }
      },
      "source": [
        "copy_data"
      ],
      "execution_count": null,
      "outputs": [
        {
          "output_type": "execute_result",
          "data": {
            "text/html": [
              "<div>\n",
              "<style scoped>\n",
              "    .dataframe tbody tr th:only-of-type {\n",
              "        vertical-align: middle;\n",
              "    }\n",
              "\n",
              "    .dataframe tbody tr th {\n",
              "        vertical-align: top;\n",
              "    }\n",
              "\n",
              "    .dataframe thead th {\n",
              "        text-align: right;\n",
              "    }\n",
              "</style>\n",
              "<table border=\"1\" class=\"dataframe\">\n",
              "  <thead>\n",
              "    <tr style=\"text-align: right;\">\n",
              "      <th></th>\n",
              "      <th>tweet_id</th>\n",
              "      <th>created_at</th>\n",
              "      <th>text</th>\n",
              "      <th>loc</th>\n",
              "      <th>user_id</th>\n",
              "      <th>verified</th>\n",
              "      <th>CleanedText</th>\n",
              "      <th>Subjectivity</th>\n",
              "      <th>Polarity</th>\n",
              "      <th>Analysis</th>\n",
              "    </tr>\n",
              "  </thead>\n",
              "  <tbody>\n",
              "    <tr>\n",
              "      <th>0</th>\n",
              "      <td>1235681413485207552</td>\n",
              "      <td>2020-03-05 21:39:41+00:00</td>\n",
              "      <td>stayfrea alert corona virus spread through mon...</td>\n",
              "      <td>MI</td>\n",
              "      <td>u1</td>\n",
              "      <td>0</td>\n",
              "      <td>stayfrea alert corona virus spread money money...</td>\n",
              "      <td>0.000000</td>\n",
              "      <td>0.000000</td>\n",
              "      <td>Neutral</td>\n",
              "    </tr>\n",
              "    <tr>\n",
              "      <th>1</th>\n",
              "      <td>1235681419554213888</td>\n",
              "      <td>2020-03-05 21:39:42+00:00</td>\n",
              "      <td>matrodamusic corona virus temporary house musi...</td>\n",
              "      <td>UT</td>\n",
              "      <td>u2</td>\n",
              "      <td>0</td>\n",
              "      <td>matrodamus corona virus temporari hous music f...</td>\n",
              "      <td>0.000000</td>\n",
              "      <td>0.000000</td>\n",
              "      <td>Neutral</td>\n",
              "    </tr>\n",
              "    <tr>\n",
              "      <th>2</th>\n",
              "      <td>1235681419558637568</td>\n",
              "      <td>2020-03-05 21:39:42+00:00</td>\n",
              "      <td>gainbos whole entire world corona virus danger...</td>\n",
              "      <td>TX</td>\n",
              "      <td>u3</td>\n",
              "      <td>0</td>\n",
              "      <td>gainbo whole entir world corona virus danger j...</td>\n",
              "      <td>0.400000</td>\n",
              "      <td>0.200000</td>\n",
              "      <td>Positive</td>\n",
              "    </tr>\n",
              "    <tr>\n",
              "      <th>3</th>\n",
              "      <td>1235681424809705472</td>\n",
              "      <td>2020-03-05 21:39:44+00:00</td>\n",
              "      <td>ellanjeferguson krystallsheree corona virus</td>\n",
              "      <td>MA</td>\n",
              "      <td>u4</td>\n",
              "      <td>0</td>\n",
              "      <td>ellanjeferguson krystallshere corona virus</td>\n",
              "      <td>0.000000</td>\n",
              "      <td>0.000000</td>\n",
              "      <td>Neutral</td>\n",
              "    </tr>\n",
              "    <tr>\n",
              "      <th>4</th>\n",
              "      <td>1235681424809680896</td>\n",
              "      <td>2020-03-05 21:39:44+00:00</td>\n",
              "      <td>bradleoy corona virus said https wwfteavdch</td>\n",
              "      <td>NJ</td>\n",
              "      <td>u5</td>\n",
              "      <td>0</td>\n",
              "      <td>bradleoy corona virus said https wwfteavdch</td>\n",
              "      <td>0.000000</td>\n",
              "      <td>0.000000</td>\n",
              "      <td>Neutral</td>\n",
              "    </tr>\n",
              "    <tr>\n",
              "      <th>...</th>\n",
              "      <td>...</td>\n",
              "      <td>...</td>\n",
              "      <td>...</td>\n",
              "      <td>...</td>\n",
              "      <td>...</td>\n",
              "      <td>...</td>\n",
              "      <td>...</td>\n",
              "      <td>...</td>\n",
              "      <td>...</td>\n",
              "      <td>...</td>\n",
              "    </tr>\n",
              "    <tr>\n",
              "      <th>19995</th>\n",
              "      <td>1235957820450840579</td>\n",
              "      <td>2020-03-06 15:58:02+00:00</td>\n",
              "      <td>krfinley coughing fever shortness breath coron...</td>\n",
              "      <td>NY</td>\n",
              "      <td>u18499</td>\n",
              "      <td>0</td>\n",
              "      <td>krfinley cough fever short breath corona sympt...</td>\n",
              "      <td>0.450000</td>\n",
              "      <td>0.350000</td>\n",
              "      <td>Positive</td>\n",
              "    </tr>\n",
              "    <tr>\n",
              "      <th>19996</th>\n",
              "      <td>1235957824016039936</td>\n",
              "      <td>2020-03-06 15:58:02+00:00</td>\n",
              "      <td>mikel_jollett this deadly serious talking abou...</td>\n",
              "      <td>OH</td>\n",
              "      <td>u18500</td>\n",
              "      <td>0</td>\n",
              "      <td>mikeljollett dead serious talk coronavirus mor...</td>\n",
              "      <td>0.533333</td>\n",
              "      <td>-0.266667</td>\n",
              "      <td>Negative</td>\n",
              "    </tr>\n",
              "    <tr>\n",
              "      <th>19997</th>\n",
              "      <td>1235957833419460609</td>\n",
              "      <td>2020-03-06 15:58:05+00:00</td>\n",
              "      <td>mikel_jollett this deadly serious talking abou...</td>\n",
              "      <td>CO</td>\n",
              "      <td>u18501</td>\n",
              "      <td>0</td>\n",
              "      <td>mikeljollett dead serious talk coronavirus mor...</td>\n",
              "      <td>0.533333</td>\n",
              "      <td>-0.266667</td>\n",
              "      <td>Negative</td>\n",
              "    </tr>\n",
              "    <tr>\n",
              "      <th>19998</th>\n",
              "      <td>1235957839924875264</td>\n",
              "      <td>2020-03-06 15:58:06+00:00</td>\n",
              "      <td>mikel_jollett this deadly serious talking abou...</td>\n",
              "      <td>CA</td>\n",
              "      <td>u18502</td>\n",
              "      <td>0</td>\n",
              "      <td>mikeljollett dead serious talk coronavirus mor...</td>\n",
              "      <td>0.533333</td>\n",
              "      <td>-0.266667</td>\n",
              "      <td>Negative</td>\n",
              "    </tr>\n",
              "    <tr>\n",
              "      <th>19999</th>\n",
              "      <td>1235957853602512896</td>\n",
              "      <td>2020-03-06 15:58:09+00:00</td>\n",
              "      <td>inevitable_et same people used multiple photos...</td>\n",
              "      <td>NV</td>\n",
              "      <td>u18503</td>\n",
              "      <td>0</td>\n",
              "      <td>inevitableet peopl use multipl photo corona cl...</td>\n",
              "      <td>0.000000</td>\n",
              "      <td>0.000000</td>\n",
              "      <td>Neutral</td>\n",
              "    </tr>\n",
              "  </tbody>\n",
              "</table>\n",
              "<p>20000 rows × 10 columns</p>\n",
              "</div>"
            ],
            "text/plain": [
              "                  tweet_id                 created_at  ...  Polarity  Analysis\n",
              "0      1235681413485207552  2020-03-05 21:39:41+00:00  ...  0.000000   Neutral\n",
              "1      1235681419554213888  2020-03-05 21:39:42+00:00  ...  0.000000   Neutral\n",
              "2      1235681419558637568  2020-03-05 21:39:42+00:00  ...  0.200000  Positive\n",
              "3      1235681424809705472  2020-03-05 21:39:44+00:00  ...  0.000000   Neutral\n",
              "4      1235681424809680896  2020-03-05 21:39:44+00:00  ...  0.000000   Neutral\n",
              "...                    ...                        ...  ...       ...       ...\n",
              "19995  1235957820450840579  2020-03-06 15:58:02+00:00  ...  0.350000  Positive\n",
              "19996  1235957824016039936  2020-03-06 15:58:02+00:00  ... -0.266667  Negative\n",
              "19997  1235957833419460609  2020-03-06 15:58:05+00:00  ... -0.266667  Negative\n",
              "19998  1235957839924875264  2020-03-06 15:58:06+00:00  ... -0.266667  Negative\n",
              "19999  1235957853602512896  2020-03-06 15:58:09+00:00  ...  0.000000   Neutral\n",
              "\n",
              "[20000 rows x 10 columns]"
            ]
          },
          "metadata": {
            "tags": []
          },
          "execution_count": 68
        }
      ]
    },
    {
      "cell_type": "code",
      "metadata": {
        "id": "HWyBgJp-hVoM",
        "outputId": "67778f94-9010-4e40-ef29-b6fffdea4e27",
        "colab": {
          "base_uri": "https://localhost:8080/",
          "height": 68
        }
      },
      "source": [
        "copy_data.columns"
      ],
      "execution_count": null,
      "outputs": [
        {
          "output_type": "execute_result",
          "data": {
            "text/plain": [
              "Index(['tweet_id', 'created_at', 'text', 'loc', 'user_id', 'verified',\n",
              "       'CleanedText', 'Subjectivity', 'Polarity', 'Analysis'],\n",
              "      dtype='object')"
            ]
          },
          "metadata": {
            "tags": []
          },
          "execution_count": 69
        }
      ]
    },
    {
      "cell_type": "code",
      "metadata": {
        "id": "LZ-dsdxkha9b",
        "outputId": "5dc3722e-8cb2-42de-d14c-1f3677d0efe7",
        "colab": {
          "base_uri": "https://localhost:8080/",
          "height": 306
        }
      },
      "source": [
        "copy_data.info()"
      ],
      "execution_count": null,
      "outputs": [
        {
          "output_type": "stream",
          "text": [
            "<class 'pandas.core.frame.DataFrame'>\n",
            "RangeIndex: 20000 entries, 0 to 19999\n",
            "Data columns (total 10 columns):\n",
            " #   Column        Non-Null Count  Dtype  \n",
            "---  ------        --------------  -----  \n",
            " 0   tweet_id      20000 non-null  int64  \n",
            " 1   created_at    20000 non-null  object \n",
            " 2   text          20000 non-null  object \n",
            " 3   loc           20000 non-null  object \n",
            " 4   user_id       20000 non-null  object \n",
            " 5   verified      20000 non-null  int64  \n",
            " 6   CleanedText   20000 non-null  object \n",
            " 7   Subjectivity  20000 non-null  float64\n",
            " 8   Polarity      20000 non-null  float64\n",
            " 9   Analysis      20000 non-null  object \n",
            "dtypes: float64(2), int64(2), object(6)\n",
            "memory usage: 1.5+ MB\n"
          ],
          "name": "stdout"
        }
      ]
    },
    {
      "cell_type": "code",
      "metadata": {
        "id": "vy-02tACjYAt"
      },
      "source": [
        "copy_data.drop(['tweet_id','created_at','text','user_id','verified','CleanedText','Subjectivity','Polarity'],axis=1,inplace=True)"
      ],
      "execution_count": null,
      "outputs": []
    },
    {
      "cell_type": "code",
      "metadata": {
        "id": "3EYDY7VMiI6b",
        "outputId": "86249bbf-d790-4788-a519-1f26f9e6de46",
        "colab": {
          "base_uri": "https://localhost:8080/",
          "height": 419
        }
      },
      "source": [
        "copy_data"
      ],
      "execution_count": null,
      "outputs": [
        {
          "output_type": "execute_result",
          "data": {
            "text/html": [
              "<div>\n",
              "<style scoped>\n",
              "    .dataframe tbody tr th:only-of-type {\n",
              "        vertical-align: middle;\n",
              "    }\n",
              "\n",
              "    .dataframe tbody tr th {\n",
              "        vertical-align: top;\n",
              "    }\n",
              "\n",
              "    .dataframe thead th {\n",
              "        text-align: right;\n",
              "    }\n",
              "</style>\n",
              "<table border=\"1\" class=\"dataframe\">\n",
              "  <thead>\n",
              "    <tr style=\"text-align: right;\">\n",
              "      <th></th>\n",
              "      <th>loc</th>\n",
              "      <th>Analysis</th>\n",
              "    </tr>\n",
              "  </thead>\n",
              "  <tbody>\n",
              "    <tr>\n",
              "      <th>0</th>\n",
              "      <td>MI</td>\n",
              "      <td>Neutral</td>\n",
              "    </tr>\n",
              "    <tr>\n",
              "      <th>1</th>\n",
              "      <td>UT</td>\n",
              "      <td>Neutral</td>\n",
              "    </tr>\n",
              "    <tr>\n",
              "      <th>2</th>\n",
              "      <td>TX</td>\n",
              "      <td>Positive</td>\n",
              "    </tr>\n",
              "    <tr>\n",
              "      <th>3</th>\n",
              "      <td>MA</td>\n",
              "      <td>Neutral</td>\n",
              "    </tr>\n",
              "    <tr>\n",
              "      <th>4</th>\n",
              "      <td>NJ</td>\n",
              "      <td>Neutral</td>\n",
              "    </tr>\n",
              "    <tr>\n",
              "      <th>...</th>\n",
              "      <td>...</td>\n",
              "      <td>...</td>\n",
              "    </tr>\n",
              "    <tr>\n",
              "      <th>19995</th>\n",
              "      <td>NY</td>\n",
              "      <td>Positive</td>\n",
              "    </tr>\n",
              "    <tr>\n",
              "      <th>19996</th>\n",
              "      <td>OH</td>\n",
              "      <td>Negative</td>\n",
              "    </tr>\n",
              "    <tr>\n",
              "      <th>19997</th>\n",
              "      <td>CO</td>\n",
              "      <td>Negative</td>\n",
              "    </tr>\n",
              "    <tr>\n",
              "      <th>19998</th>\n",
              "      <td>CA</td>\n",
              "      <td>Negative</td>\n",
              "    </tr>\n",
              "    <tr>\n",
              "      <th>19999</th>\n",
              "      <td>NV</td>\n",
              "      <td>Neutral</td>\n",
              "    </tr>\n",
              "  </tbody>\n",
              "</table>\n",
              "<p>20000 rows × 2 columns</p>\n",
              "</div>"
            ],
            "text/plain": [
              "      loc  Analysis\n",
              "0      MI   Neutral\n",
              "1      UT   Neutral\n",
              "2      TX  Positive\n",
              "3      MA   Neutral\n",
              "4      NJ   Neutral\n",
              "...    ..       ...\n",
              "19995  NY  Positive\n",
              "19996  OH  Negative\n",
              "19997  CO  Negative\n",
              "19998  CA  Negative\n",
              "19999  NV   Neutral\n",
              "\n",
              "[20000 rows x 2 columns]"
            ]
          },
          "metadata": {
            "tags": []
          },
          "execution_count": 74
        }
      ]
    },
    {
      "cell_type": "code",
      "metadata": {
        "id": "cizsu6fNj8-8",
        "outputId": "b5a29928-b418-4556-a7ea-5ecd86c8dbcf",
        "colab": {
          "base_uri": "https://localhost:8080/",
          "height": 204
        }
      },
      "source": [
        "copy_data.head()"
      ],
      "execution_count": null,
      "outputs": [
        {
          "output_type": "execute_result",
          "data": {
            "text/html": [
              "<div>\n",
              "<style scoped>\n",
              "    .dataframe tbody tr th:only-of-type {\n",
              "        vertical-align: middle;\n",
              "    }\n",
              "\n",
              "    .dataframe tbody tr th {\n",
              "        vertical-align: top;\n",
              "    }\n",
              "\n",
              "    .dataframe thead th {\n",
              "        text-align: right;\n",
              "    }\n",
              "</style>\n",
              "<table border=\"1\" class=\"dataframe\">\n",
              "  <thead>\n",
              "    <tr style=\"text-align: right;\">\n",
              "      <th></th>\n",
              "      <th>loc</th>\n",
              "      <th>Analysis</th>\n",
              "    </tr>\n",
              "  </thead>\n",
              "  <tbody>\n",
              "    <tr>\n",
              "      <th>0</th>\n",
              "      <td>MI</td>\n",
              "      <td>Neutral</td>\n",
              "    </tr>\n",
              "    <tr>\n",
              "      <th>1</th>\n",
              "      <td>UT</td>\n",
              "      <td>Neutral</td>\n",
              "    </tr>\n",
              "    <tr>\n",
              "      <th>2</th>\n",
              "      <td>TX</td>\n",
              "      <td>Positive</td>\n",
              "    </tr>\n",
              "    <tr>\n",
              "      <th>3</th>\n",
              "      <td>MA</td>\n",
              "      <td>Neutral</td>\n",
              "    </tr>\n",
              "    <tr>\n",
              "      <th>4</th>\n",
              "      <td>NJ</td>\n",
              "      <td>Neutral</td>\n",
              "    </tr>\n",
              "  </tbody>\n",
              "</table>\n",
              "</div>"
            ],
            "text/plain": [
              "  loc  Analysis\n",
              "0  MI   Neutral\n",
              "1  UT   Neutral\n",
              "2  TX  Positive\n",
              "3  MA   Neutral\n",
              "4  NJ   Neutral"
            ]
          },
          "metadata": {
            "tags": []
          },
          "execution_count": 77
        }
      ]
    },
    {
      "cell_type": "code",
      "metadata": {
        "id": "rGH2p2mnuNvM"
      },
      "source": [
        "from sklearn.preprocessing import LabelEncoder\n",
        "import pandas as pd\n"
      ],
      "execution_count": null,
      "outputs": []
    },
    {
      "cell_type": "code",
      "metadata": {
        "id": "6Zrcezi2uo8A",
        "outputId": "9460affe-fe60-48a1-827c-f011bd03629a",
        "colab": {
          "base_uri": "https://localhost:8080/",
          "height": 204
        }
      },
      "source": [
        "copy_data.head()"
      ],
      "execution_count": null,
      "outputs": [
        {
          "output_type": "execute_result",
          "data": {
            "text/html": [
              "<div>\n",
              "<style scoped>\n",
              "    .dataframe tbody tr th:only-of-type {\n",
              "        vertical-align: middle;\n",
              "    }\n",
              "\n",
              "    .dataframe tbody tr th {\n",
              "        vertical-align: top;\n",
              "    }\n",
              "\n",
              "    .dataframe thead th {\n",
              "        text-align: right;\n",
              "    }\n",
              "</style>\n",
              "<table border=\"1\" class=\"dataframe\">\n",
              "  <thead>\n",
              "    <tr style=\"text-align: right;\">\n",
              "      <th></th>\n",
              "      <th>loc</th>\n",
              "      <th>Analysis</th>\n",
              "      <th>loc_encoder</th>\n",
              "      <th>analysis_encoder</th>\n",
              "    </tr>\n",
              "  </thead>\n",
              "  <tbody>\n",
              "    <tr>\n",
              "      <th>0</th>\n",
              "      <td>MI</td>\n",
              "      <td>Neutral</td>\n",
              "      <td>21</td>\n",
              "      <td>1</td>\n",
              "    </tr>\n",
              "    <tr>\n",
              "      <th>1</th>\n",
              "      <td>UT</td>\n",
              "      <td>Neutral</td>\n",
              "      <td>43</td>\n",
              "      <td>1</td>\n",
              "    </tr>\n",
              "    <tr>\n",
              "      <th>2</th>\n",
              "      <td>TX</td>\n",
              "      <td>Positive</td>\n",
              "      <td>42</td>\n",
              "      <td>2</td>\n",
              "    </tr>\n",
              "    <tr>\n",
              "      <th>3</th>\n",
              "      <td>MA</td>\n",
              "      <td>Neutral</td>\n",
              "      <td>18</td>\n",
              "      <td>1</td>\n",
              "    </tr>\n",
              "    <tr>\n",
              "      <th>4</th>\n",
              "      <td>NJ</td>\n",
              "      <td>Neutral</td>\n",
              "      <td>30</td>\n",
              "      <td>1</td>\n",
              "    </tr>\n",
              "  </tbody>\n",
              "</table>\n",
              "</div>"
            ],
            "text/plain": [
              "  loc  Analysis  loc_encoder  analysis_encoder\n",
              "0  MI   Neutral           21                 1\n",
              "1  UT   Neutral           43                 1\n",
              "2  TX  Positive           42                 2\n",
              "3  MA   Neutral           18                 1\n",
              "4  NJ   Neutral           30                 1"
            ]
          },
          "metadata": {
            "tags": []
          },
          "execution_count": 102
        }
      ]
    },
    {
      "cell_type": "code",
      "metadata": {
        "id": "YQG5W0pAuwl8"
      },
      "source": [
        "le = LabelEncoder()"
      ],
      "execution_count": null,
      "outputs": []
    },
    {
      "cell_type": "code",
      "metadata": {
        "id": "kiZgg86lu07T",
        "outputId": "6e84d730-52ba-479a-bbb2-1f798f538393",
        "colab": {
          "base_uri": "https://localhost:8080/",
          "height": 34
        }
      },
      "source": [
        "le.fit_transform(copy_data['loc'])"
      ],
      "execution_count": null,
      "outputs": [
        {
          "output_type": "execute_result",
          "data": {
            "text/plain": [
              "array([21, 43, 42, ...,  5,  4, 32])"
            ]
          },
          "metadata": {
            "tags": []
          },
          "execution_count": 81
        }
      ]
    },
    {
      "cell_type": "code",
      "metadata": {
        "id": "LDawpDe3vJqZ"
      },
      "source": [
        "copy_data['loc_encoder']=le.fit_transform(copy_data['loc'])"
      ],
      "execution_count": null,
      "outputs": []
    },
    {
      "cell_type": "code",
      "metadata": {
        "id": "9MkD9M7lvVWW",
        "outputId": "21f8ea07-29ce-49fd-9c94-eae583ae5f24",
        "colab": {
          "base_uri": "https://localhost:8080/",
          "height": 884
        }
      },
      "source": [
        "copy_data['loc_encoder'].value_counts()"
      ],
      "execution_count": null,
      "outputs": [
        {
          "output_type": "execute_result",
          "data": {
            "text/plain": [
              "4     3399\n",
              "42    2379\n",
              "8     1200\n",
              "33    1151\n",
              "46     974\n",
              "13     774\n",
              "30     578\n",
              "9      566\n",
              "32     554\n",
              "3      515\n",
              "19     494\n",
              "37     484\n",
              "5      474\n",
              "34     417\n",
              "36     397\n",
              "26     376\n",
              "18     370\n",
              "41     365\n",
              "44     350\n",
              "39     316\n",
              "17     314\n",
              "21     298\n",
              "29     278\n",
              "1      262\n",
              "14     220\n",
              "22     204\n",
              "23     166\n",
              "16     161\n",
              "47     157\n",
              "10     146\n",
              "35     142\n",
              "31     136\n",
              "43     131\n",
              "6      127\n",
              "45     119\n",
              "28     104\n",
              "15     101\n",
              "0       93\n",
              "11      87\n",
              "2       85\n",
              "12      83\n",
              "24      82\n",
              "7       79\n",
              "48      64\n",
              "25      50\n",
              "38      50\n",
              "20      50\n",
              "40      37\n",
              "27      24\n",
              "49      17\n",
              "Name: loc_encoder, dtype: int64"
            ]
          },
          "metadata": {
            "tags": []
          },
          "execution_count": 104
        }
      ]
    },
    {
      "cell_type": "code",
      "metadata": {
        "id": "GSpia0CHwU7v"
      },
      "source": [
        "copy_data['analysis_encoder']=le.fit_transform(copy_data['Analysis'])"
      ],
      "execution_count": null,
      "outputs": []
    },
    {
      "cell_type": "code",
      "metadata": {
        "id": "zBJEE_3awELb",
        "outputId": "c6490ff7-0b94-4524-b5e4-d7d5988d9ca3",
        "colab": {
          "base_uri": "https://localhost:8080/",
          "height": 204
        }
      },
      "source": [
        "copy_data.head()"
      ],
      "execution_count": null,
      "outputs": [
        {
          "output_type": "execute_result",
          "data": {
            "text/html": [
              "<div>\n",
              "<style scoped>\n",
              "    .dataframe tbody tr th:only-of-type {\n",
              "        vertical-align: middle;\n",
              "    }\n",
              "\n",
              "    .dataframe tbody tr th {\n",
              "        vertical-align: top;\n",
              "    }\n",
              "\n",
              "    .dataframe thead th {\n",
              "        text-align: right;\n",
              "    }\n",
              "</style>\n",
              "<table border=\"1\" class=\"dataframe\">\n",
              "  <thead>\n",
              "    <tr style=\"text-align: right;\">\n",
              "      <th></th>\n",
              "      <th>loc</th>\n",
              "      <th>Analysis</th>\n",
              "      <th>loc_encoder</th>\n",
              "      <th>analysis_encoder</th>\n",
              "    </tr>\n",
              "  </thead>\n",
              "  <tbody>\n",
              "    <tr>\n",
              "      <th>0</th>\n",
              "      <td>MI</td>\n",
              "      <td>Neutral</td>\n",
              "      <td>21</td>\n",
              "      <td>1</td>\n",
              "    </tr>\n",
              "    <tr>\n",
              "      <th>1</th>\n",
              "      <td>UT</td>\n",
              "      <td>Neutral</td>\n",
              "      <td>43</td>\n",
              "      <td>1</td>\n",
              "    </tr>\n",
              "    <tr>\n",
              "      <th>2</th>\n",
              "      <td>TX</td>\n",
              "      <td>Positive</td>\n",
              "      <td>42</td>\n",
              "      <td>2</td>\n",
              "    </tr>\n",
              "    <tr>\n",
              "      <th>3</th>\n",
              "      <td>MA</td>\n",
              "      <td>Neutral</td>\n",
              "      <td>18</td>\n",
              "      <td>1</td>\n",
              "    </tr>\n",
              "    <tr>\n",
              "      <th>4</th>\n",
              "      <td>NJ</td>\n",
              "      <td>Neutral</td>\n",
              "      <td>30</td>\n",
              "      <td>1</td>\n",
              "    </tr>\n",
              "  </tbody>\n",
              "</table>\n",
              "</div>"
            ],
            "text/plain": [
              "  loc  Analysis  loc_encoder  analysis_encoder\n",
              "0  MI   Neutral           21                 1\n",
              "1  UT   Neutral           43                 1\n",
              "2  TX  Positive           42                 2\n",
              "3  MA   Neutral           18                 1\n",
              "4  NJ   Neutral           30                 1"
            ]
          },
          "metadata": {
            "tags": []
          },
          "execution_count": 105
        }
      ]
    },
    {
      "cell_type": "code",
      "metadata": {
        "id": "DuFBaHAkxTc7",
        "outputId": "2ccf9411-cb6b-406c-e90c-99baec1ffcdc",
        "colab": {
          "base_uri": "https://localhost:8080/",
          "height": 339
        }
      },
      "source": [
        "import seaborn as sns, numpy as np\n",
        "sns.set_theme(); np.random.seed(0)\n",
        "x = copy_data['loc_encoder']\n",
        "ax = sns.distplot(x)"
      ],
      "execution_count": null,
      "outputs": [
        {
          "output_type": "stream",
          "text": [
            "/usr/local/lib/python3.6/dist-packages/seaborn/distributions.py:2551: FutureWarning: `distplot` is a deprecated function and will be removed in a future version. Please adapt your code to use either `displot` (a figure-level function with similar flexibility) or `histplot` (an axes-level function for histograms).\n",
            "  warnings.warn(msg, FutureWarning)\n"
          ],
          "name": "stderr"
        },
        {
          "output_type": "display_data",
          "data": {
            "image/png": "[encoded data removed]",
            "text/plain": [
              "<Figure size 432x288 with 1 Axes>"
            ]
          },
          "metadata": {
            "tags": []
          }
        }
      ]
    },
    {
      "cell_type": "code",
      "metadata": {
        "id": "8-sDvT0twkzC",
        "outputId": "346ec800-26ce-4abf-ad85-51884f595e79",
        "colab": {
          "base_uri": "https://localhost:8080/",
          "height": 339
        }
      },
      "source": [
        "sns.set_theme(); np.random.seed(0)\n",
        "y = copy_data['analysis_encoder']\n",
        "ax = sns.distplot(y)"
      ],
      "execution_count": null,
      "outputs": [
        {
          "output_type": "stream",
          "text": [
            "/usr/local/lib/python3.6/dist-packages/seaborn/distributions.py:2551: FutureWarning: `distplot` is a deprecated function and will be removed in a future version. Please adapt your code to use either `displot` (a figure-level function with similar flexibility) or `histplot` (an axes-level function for histograms).\n",
            "  warnings.warn(msg, FutureWarning)\n"
          ],
          "name": "stderr"
        },
        {
          "output_type": "display_data",
          "data": {
            "image/png": "[encoded data removed]",
            "text/plain": [
              "<Figure size 432x288 with 1 Axes>"
            ]
          },
          "metadata": {
            "tags": []
          }
        }
      ]
    },
    {
      "cell_type": "code",
      "metadata": {
        "id": "bfOOjTvkx0_e",
        "outputId": "176a9ed1-0178-43bd-ca63-0be100eaa23e",
        "colab": {
          "base_uri": "https://localhost:8080/",
          "height": 302
        }
      },
      "source": [
        "sns.kdeplot(data=copy_data, x=\"loc_encoder\", hue=\"Analysis\")"
      ],
      "execution_count": null,
      "outputs": [
        {
          "output_type": "execute_result",
          "data": {
            "text/plain": [
              "<matplotlib.axes._subplots.AxesSubplot at 0x7ff89635df28>"
            ]
          },
          "metadata": {
            "tags": []
          },
          "execution_count": 97
        },
        {
          "output_type": "display_data",
          "data": {
            "image/png": "[encoded data removed]",
            "text/plain": [
              "<Figure size 432x288 with 1 Axes>"
            ]
          },
          "metadata": {
            "tags": []
          }
        }
      ]
    },
    {
      "cell_type": "code",
      "metadata": {
        "id": "cmNE40qiyYwL",
        "outputId": "987a16ab-73a7-4e25-def7-d861f888ef3b",
        "colab": {
          "base_uri": "https://localhost:8080/",
          "height": 399
        }
      },
      "source": [
        "plt.figure(figsize=(20,8))\n",
        "sns.displot(copy_data, x=\"loc_encoder\", hue=\"Analysis\", multiple=\"stack\")"
      ],
      "execution_count": null,
      "outputs": [
        {
          "output_type": "execute_result",
          "data": {
            "text/plain": [
              "<seaborn.axisgrid.FacetGrid at 0x7ff896f6dba8>"
            ]
          },
          "metadata": {
            "tags": []
          },
          "execution_count": 106
        },
        {
          "output_type": "display_data",
          "data": {
            "text/plain": [
              "<Figure size 1440x576 with 0 Axes>"
            ]
          },
          "metadata": {
            "tags": []
          }
        },
        {
          "output_type": "display_data",
          "data": {
            "image/png": "[encoded data removed]",
            "text/plain": [
              "<Figure size 449.35x360 with 1 Axes>"
            ]
          },
          "metadata": {
            "tags": []
          }
        }
      ]
    },
    {
      "cell_type": "markdown",
      "metadata": {
        "id": "TkCGx97E0v1C"
      },
      "source": [
        "# Finding correlation"
      ]
    },
    {
      "cell_type": "code",
      "metadata": {
        "id": "wAimgUTjyoUV",
        "outputId": "8c168f42-dd61-41db-cb8f-246cea248604",
        "colab": {
          "base_uri": "https://localhost:8080/",
          "height": 111
        }
      },
      "source": [
        "copy_data.corr()"
      ],
      "execution_count": null,
      "outputs": [
        {
          "output_type": "execute_result",
          "data": {
            "text/html": [
              "<div>\n",
              "<style scoped>\n",
              "    .dataframe tbody tr th:only-of-type {\n",
              "        vertical-align: middle;\n",
              "    }\n",
              "\n",
              "    .dataframe tbody tr th {\n",
              "        vertical-align: top;\n",
              "    }\n",
              "\n",
              "    .dataframe thead th {\n",
              "        text-align: right;\n",
              "    }\n",
              "</style>\n",
              "<table border=\"1\" class=\"dataframe\">\n",
              "  <thead>\n",
              "    <tr style=\"text-align: right;\">\n",
              "      <th></th>\n",
              "      <th>loc_encoder</th>\n",
              "      <th>analysis_encoder</th>\n",
              "    </tr>\n",
              "  </thead>\n",
              "  <tbody>\n",
              "    <tr>\n",
              "      <th>loc_encoder</th>\n",
              "      <td>1.000000</td>\n",
              "      <td>-0.003111</td>\n",
              "    </tr>\n",
              "    <tr>\n",
              "      <th>analysis_encoder</th>\n",
              "      <td>-0.003111</td>\n",
              "      <td>1.000000</td>\n",
              "    </tr>\n",
              "  </tbody>\n",
              "</table>\n",
              "</div>"
            ],
            "text/plain": [
              "                  loc_encoder  analysis_encoder\n",
              "loc_encoder          1.000000         -0.003111\n",
              "analysis_encoder    -0.003111          1.000000"
            ]
          },
          "metadata": {
            "tags": []
          },
          "execution_count": 108
        }
      ]
    },
    {
      "cell_type": "code",
      "metadata": {
        "id": "-2rka8hM00kY",
        "outputId": "13d2b97d-3248-4604-c8a9-2fc62ed4f663",
        "colab": {
          "base_uri": "https://localhost:8080/",
          "height": 306
        }
      },
      "source": [
        "sns.heatmap(copy_data.corr())"
      ],
      "execution_count": null,
      "outputs": [
        {
          "output_type": "execute_result",
          "data": {
            "text/plain": [
              "<matplotlib.axes._subplots.AxesSubplot at 0x7ff8977737f0>"
            ]
          },
          "metadata": {
            "tags": []
          },
          "execution_count": 109
        },
        {
          "output_type": "display_data",
          "data": {
            "image/png": "[encoded data removed]",
            "text/plain": [
              "<Figure size 432x288 with 2 Axes>"
            ]
          },
          "metadata": {
            "tags": []
          }
        }
      ]
    },
    {
      "cell_type": "code",
      "metadata": {
        "id": "Fkg386ju2q5W"
      },
      "source": [
        "df2 = data.copy()"
      ],
      "execution_count": null,
      "outputs": []
    },
    {
      "cell_type": "code",
      "metadata": {
        "id": "D01lr3iC1Gu3",
        "outputId": "7a6a6c39-e349-4e5d-96a4-597a68faef2e",
        "colab": {
          "base_uri": "https://localhost:8080/",
          "height": 289
        }
      },
      "source": [
        "df2.head()"
      ],
      "execution_count": null,
      "outputs": [
        {
          "output_type": "execute_result",
          "data": {
            "text/html": [
              "<div>\n",
              "<style scoped>\n",
              "    .dataframe tbody tr th:only-of-type {\n",
              "        vertical-align: middle;\n",
              "    }\n",
              "\n",
              "    .dataframe tbody tr th {\n",
              "        vertical-align: top;\n",
              "    }\n",
              "\n",
              "    .dataframe thead th {\n",
              "        text-align: right;\n",
              "    }\n",
              "</style>\n",
              "<table border=\"1\" class=\"dataframe\">\n",
              "  <thead>\n",
              "    <tr style=\"text-align: right;\">\n",
              "      <th></th>\n",
              "      <th>tweet_id</th>\n",
              "      <th>created_at</th>\n",
              "      <th>text</th>\n",
              "      <th>loc</th>\n",
              "      <th>user_id</th>\n",
              "      <th>verified</th>\n",
              "      <th>CleanedText</th>\n",
              "      <th>Subjectivity</th>\n",
              "      <th>Polarity</th>\n",
              "      <th>Analysis</th>\n",
              "    </tr>\n",
              "  </thead>\n",
              "  <tbody>\n",
              "    <tr>\n",
              "      <th>0</th>\n",
              "      <td>1235681413485207552</td>\n",
              "      <td>2020-03-05 21:39:41+00:00</td>\n",
              "      <td>stayfrea alert corona virus spread through mon...</td>\n",
              "      <td>MI</td>\n",
              "      <td>u1</td>\n",
              "      <td>0</td>\n",
              "      <td>stayfrea alert corona virus spread money money...</td>\n",
              "      <td>0.0</td>\n",
              "      <td>0.0</td>\n",
              "      <td>Neutral</td>\n",
              "    </tr>\n",
              "    <tr>\n",
              "      <th>1</th>\n",
              "      <td>1235681419554213888</td>\n",
              "      <td>2020-03-05 21:39:42+00:00</td>\n",
              "      <td>matrodamusic corona virus temporary house musi...</td>\n",
              "      <td>UT</td>\n",
              "      <td>u2</td>\n",
              "      <td>0</td>\n",
              "      <td>matrodamus corona virus temporari hous music f...</td>\n",
              "      <td>0.0</td>\n",
              "      <td>0.0</td>\n",
              "      <td>Neutral</td>\n",
              "    </tr>\n",
              "    <tr>\n",
              "      <th>2</th>\n",
              "      <td>1235681419558637568</td>\n",
              "      <td>2020-03-05 21:39:42+00:00</td>\n",
              "      <td>gainbos whole entire world corona virus danger...</td>\n",
              "      <td>TX</td>\n",
              "      <td>u3</td>\n",
              "      <td>0</td>\n",
              "      <td>gainbo whole entir world corona virus danger j...</td>\n",
              "      <td>0.4</td>\n",
              "      <td>0.2</td>\n",
              "      <td>Positive</td>\n",
              "    </tr>\n",
              "    <tr>\n",
              "      <th>3</th>\n",
              "      <td>1235681424809705472</td>\n",
              "      <td>2020-03-05 21:39:44+00:00</td>\n",
              "      <td>ellanjeferguson krystallsheree corona virus</td>\n",
              "      <td>MA</td>\n",
              "      <td>u4</td>\n",
              "      <td>0</td>\n",
              "      <td>ellanjeferguson krystallshere corona virus</td>\n",
              "      <td>0.0</td>\n",
              "      <td>0.0</td>\n",
              "      <td>Neutral</td>\n",
              "    </tr>\n",
              "    <tr>\n",
              "      <th>4</th>\n",
              "      <td>1235681424809680896</td>\n",
              "      <td>2020-03-05 21:39:44+00:00</td>\n",
              "      <td>bradleoy corona virus said https wwfteavdch</td>\n",
              "      <td>NJ</td>\n",
              "      <td>u5</td>\n",
              "      <td>0</td>\n",
              "      <td>bradleoy corona virus said https wwfteavdch</td>\n",
              "      <td>0.0</td>\n",
              "      <td>0.0</td>\n",
              "      <td>Neutral</td>\n",
              "    </tr>\n",
              "  </tbody>\n",
              "</table>\n",
              "</div>"
            ],
            "text/plain": [
              "              tweet_id                 created_at  ... Polarity  Analysis\n",
              "0  1235681413485207552  2020-03-05 21:39:41+00:00  ...      0.0   Neutral\n",
              "1  1235681419554213888  2020-03-05 21:39:42+00:00  ...      0.0   Neutral\n",
              "2  1235681419558637568  2020-03-05 21:39:42+00:00  ...      0.2  Positive\n",
              "3  1235681424809705472  2020-03-05 21:39:44+00:00  ...      0.0   Neutral\n",
              "4  1235681424809680896  2020-03-05 21:39:44+00:00  ...      0.0   Neutral\n",
              "\n",
              "[5 rows x 10 columns]"
            ]
          },
          "metadata": {
            "tags": []
          },
          "execution_count": 115
        }
      ]
    },
    {
      "cell_type": "code",
      "metadata": {
        "id": "NzGHEX272tvh",
        "outputId": "f165e394-a9c6-4250-e208-cba488648acf",
        "colab": {
          "base_uri": "https://localhost:8080/",
          "height": 68
        }
      },
      "source": [
        "df2.columns"
      ],
      "execution_count": null,
      "outputs": [
        {
          "output_type": "execute_result",
          "data": {
            "text/plain": [
              "Index(['tweet_id', 'created_at', 'text', 'loc', 'user_id', 'verified',\n",
              "       'CleanedText', 'Subjectivity', 'Polarity', 'Analysis'],\n",
              "      dtype='object')"
            ]
          },
          "metadata": {
            "tags": []
          },
          "execution_count": 117
        }
      ]
    },
    {
      "cell_type": "code",
      "metadata": {
        "id": "GmtxZzSf3G0l"
      },
      "source": [
        "df2.drop(['tweet_id','created_at','user_id','verified','text','CleanedText'],axis=1,inplace=True)"
      ],
      "execution_count": null,
      "outputs": []
    },
    {
      "cell_type": "code",
      "metadata": {
        "id": "Zm9TNB4q3XrZ",
        "outputId": "ad98fe81-e0dc-48bd-b531-33680c23aa3d",
        "colab": {
          "base_uri": "https://localhost:8080/",
          "height": 204
        }
      },
      "source": [
        "df2.head()"
      ],
      "execution_count": null,
      "outputs": [
        {
          "output_type": "execute_result",
          "data": {
            "text/html": [
              "<div>\n",
              "<style scoped>\n",
              "    .dataframe tbody tr th:only-of-type {\n",
              "        vertical-align: middle;\n",
              "    }\n",
              "\n",
              "    .dataframe tbody tr th {\n",
              "        vertical-align: top;\n",
              "    }\n",
              "\n",
              "    .dataframe thead th {\n",
              "        text-align: right;\n",
              "    }\n",
              "</style>\n",
              "<table border=\"1\" class=\"dataframe\">\n",
              "  <thead>\n",
              "    <tr style=\"text-align: right;\">\n",
              "      <th></th>\n",
              "      <th>loc</th>\n",
              "      <th>Subjectivity</th>\n",
              "      <th>Polarity</th>\n",
              "      <th>Analysis</th>\n",
              "    </tr>\n",
              "  </thead>\n",
              "  <tbody>\n",
              "    <tr>\n",
              "      <th>0</th>\n",
              "      <td>MI</td>\n",
              "      <td>0.0</td>\n",
              "      <td>0.0</td>\n",
              "      <td>Neutral</td>\n",
              "    </tr>\n",
              "    <tr>\n",
              "      <th>1</th>\n",
              "      <td>UT</td>\n",
              "      <td>0.0</td>\n",
              "      <td>0.0</td>\n",
              "      <td>Neutral</td>\n",
              "    </tr>\n",
              "    <tr>\n",
              "      <th>2</th>\n",
              "      <td>TX</td>\n",
              "      <td>0.4</td>\n",
              "      <td>0.2</td>\n",
              "      <td>Positive</td>\n",
              "    </tr>\n",
              "    <tr>\n",
              "      <th>3</th>\n",
              "      <td>MA</td>\n",
              "      <td>0.0</td>\n",
              "      <td>0.0</td>\n",
              "      <td>Neutral</td>\n",
              "    </tr>\n",
              "    <tr>\n",
              "      <th>4</th>\n",
              "      <td>NJ</td>\n",
              "      <td>0.0</td>\n",
              "      <td>0.0</td>\n",
              "      <td>Neutral</td>\n",
              "    </tr>\n",
              "  </tbody>\n",
              "</table>\n",
              "</div>"
            ],
            "text/plain": [
              "  loc  Subjectivity  Polarity  Analysis\n",
              "0  MI           0.0       0.0   Neutral\n",
              "1  UT           0.0       0.0   Neutral\n",
              "2  TX           0.4       0.2  Positive\n",
              "3  MA           0.0       0.0   Neutral\n",
              "4  NJ           0.0       0.0   Neutral"
            ]
          },
          "metadata": {
            "tags": []
          },
          "execution_count": 119
        }
      ]
    },
    {
      "cell_type": "code",
      "metadata": {
        "id": "sEg3E7uC3ZGs"
      },
      "source": [
        "from sklearn.preprocessing import LabelEncoder\n",
        "import pandas as pd"
      ],
      "execution_count": null,
      "outputs": []
    },
    {
      "cell_type": "code",
      "metadata": {
        "id": "k6HuOjaM3iUO"
      },
      "source": [
        "lel = LabelEncoder()"
      ],
      "execution_count": null,
      "outputs": []
    },
    {
      "cell_type": "code",
      "metadata": {
        "id": "I29p0lOy3pXT"
      },
      "source": [
        "df2['loc_encoder']=le.fit_transform(df2['loc'])\n"
      ],
      "execution_count": null,
      "outputs": []
    },
    {
      "cell_type": "code",
      "metadata": {
        "id": "PSH88tSX35wl"
      },
      "source": [
        "df2['analysis_encoder']=le.fit_transform(df2['Analysis'])"
      ],
      "execution_count": null,
      "outputs": []
    },
    {
      "cell_type": "code",
      "metadata": {
        "id": "5Znu_Zt34DDO",
        "outputId": "1313a99f-fd16-4f74-c1eb-7e56e34370ab",
        "colab": {
          "base_uri": "https://localhost:8080/",
          "height": 204
        }
      },
      "source": [
        "df2.head()"
      ],
      "execution_count": null,
      "outputs": [
        {
          "output_type": "execute_result",
          "data": {
            "text/html": [
              "<div>\n",
              "<style scoped>\n",
              "    .dataframe tbody tr th:only-of-type {\n",
              "        vertical-align: middle;\n",
              "    }\n",
              "\n",
              "    .dataframe tbody tr th {\n",
              "        vertical-align: top;\n",
              "    }\n",
              "\n",
              "    .dataframe thead th {\n",
              "        text-align: right;\n",
              "    }\n",
              "</style>\n",
              "<table border=\"1\" class=\"dataframe\">\n",
              "  <thead>\n",
              "    <tr style=\"text-align: right;\">\n",
              "      <th></th>\n",
              "      <th>loc</th>\n",
              "      <th>Subjectivity</th>\n",
              "      <th>Polarity</th>\n",
              "      <th>Analysis</th>\n",
              "      <th>loc_encoder</th>\n",
              "      <th>analysis_encoder</th>\n",
              "    </tr>\n",
              "  </thead>\n",
              "  <tbody>\n",
              "    <tr>\n",
              "      <th>0</th>\n",
              "      <td>MI</td>\n",
              "      <td>0.0</td>\n",
              "      <td>0.0</td>\n",
              "      <td>Neutral</td>\n",
              "      <td>21</td>\n",
              "      <td>1</td>\n",
              "    </tr>\n",
              "    <tr>\n",
              "      <th>1</th>\n",
              "      <td>UT</td>\n",
              "      <td>0.0</td>\n",
              "      <td>0.0</td>\n",
              "      <td>Neutral</td>\n",
              "      <td>43</td>\n",
              "      <td>1</td>\n",
              "    </tr>\n",
              "    <tr>\n",
              "      <th>2</th>\n",
              "      <td>TX</td>\n",
              "      <td>0.4</td>\n",
              "      <td>0.2</td>\n",
              "      <td>Positive</td>\n",
              "      <td>42</td>\n",
              "      <td>2</td>\n",
              "    </tr>\n",
              "    <tr>\n",
              "      <th>3</th>\n",
              "      <td>MA</td>\n",
              "      <td>0.0</td>\n",
              "      <td>0.0</td>\n",
              "      <td>Neutral</td>\n",
              "      <td>18</td>\n",
              "      <td>1</td>\n",
              "    </tr>\n",
              "    <tr>\n",
              "      <th>4</th>\n",
              "      <td>NJ</td>\n",
              "      <td>0.0</td>\n",
              "      <td>0.0</td>\n",
              "      <td>Neutral</td>\n",
              "      <td>30</td>\n",
              "      <td>1</td>\n",
              "    </tr>\n",
              "  </tbody>\n",
              "</table>\n",
              "</div>"
            ],
            "text/plain": [
              "  loc  Subjectivity  Polarity  Analysis  loc_encoder  analysis_encoder\n",
              "0  MI           0.0       0.0   Neutral           21                 1\n",
              "1  UT           0.0       0.0   Neutral           43                 1\n",
              "2  TX           0.4       0.2  Positive           42                 2\n",
              "3  MA           0.0       0.0   Neutral           18                 1\n",
              "4  NJ           0.0       0.0   Neutral           30                 1"
            ]
          },
          "metadata": {
            "tags": []
          },
          "execution_count": 125
        }
      ]
    },
    {
      "cell_type": "code",
      "metadata": {
        "id": "M3pcsEMG4ENP",
        "outputId": "65af60b3-43f7-462d-eb99-3a4bc527655a",
        "colab": {
          "base_uri": "https://localhost:8080/",
          "height": 173
        }
      },
      "source": [
        "df2.corr()"
      ],
      "execution_count": null,
      "outputs": [
        {
          "output_type": "execute_result",
          "data": {
            "text/html": [
              "<div>\n",
              "<style scoped>\n",
              "    .dataframe tbody tr th:only-of-type {\n",
              "        vertical-align: middle;\n",
              "    }\n",
              "\n",
              "    .dataframe tbody tr th {\n",
              "        vertical-align: top;\n",
              "    }\n",
              "\n",
              "    .dataframe thead th {\n",
              "        text-align: right;\n",
              "    }\n",
              "</style>\n",
              "<table border=\"1\" class=\"dataframe\">\n",
              "  <thead>\n",
              "    <tr style=\"text-align: right;\">\n",
              "      <th></th>\n",
              "      <th>Subjectivity</th>\n",
              "      <th>Polarity</th>\n",
              "      <th>loc_encoder</th>\n",
              "      <th>analysis_encoder</th>\n",
              "    </tr>\n",
              "  </thead>\n",
              "  <tbody>\n",
              "    <tr>\n",
              "      <th>Subjectivity</th>\n",
              "      <td>1.000000</td>\n",
              "      <td>-0.161923</td>\n",
              "      <td>-0.006645</td>\n",
              "      <td>-0.091737</td>\n",
              "    </tr>\n",
              "    <tr>\n",
              "      <th>Polarity</th>\n",
              "      <td>-0.161923</td>\n",
              "      <td>1.000000</td>\n",
              "      <td>-0.003954</td>\n",
              "      <td>0.826641</td>\n",
              "    </tr>\n",
              "    <tr>\n",
              "      <th>loc_encoder</th>\n",
              "      <td>-0.006645</td>\n",
              "      <td>-0.003954</td>\n",
              "      <td>1.000000</td>\n",
              "      <td>-0.003111</td>\n",
              "    </tr>\n",
              "    <tr>\n",
              "      <th>analysis_encoder</th>\n",
              "      <td>-0.091737</td>\n",
              "      <td>0.826641</td>\n",
              "      <td>-0.003111</td>\n",
              "      <td>1.000000</td>\n",
              "    </tr>\n",
              "  </tbody>\n",
              "</table>\n",
              "</div>"
            ],
            "text/plain": [
              "                  Subjectivity  Polarity  loc_encoder  analysis_encoder\n",
              "Subjectivity          1.000000 -0.161923    -0.006645         -0.091737\n",
              "Polarity             -0.161923  1.000000    -0.003954          0.826641\n",
              "loc_encoder          -0.006645 -0.003954     1.000000         -0.003111\n",
              "analysis_encoder     -0.091737  0.826641    -0.003111          1.000000"
            ]
          },
          "metadata": {
            "tags": []
          },
          "execution_count": 126
        }
      ]
    },
    {
      "cell_type": "code",
      "metadata": {
        "id": "uvsRoGyl4HVR",
        "outputId": "0a8cae14-e505-4d91-f4a6-cfcf50477e7b",
        "colab": {
          "base_uri": "https://localhost:8080/",
          "height": 374
        }
      },
      "source": [
        "sns.heatmap(df2.corr())"
      ],
      "execution_count": null,
      "outputs": [
        {
          "output_type": "execute_result",
          "data": {
            "text/plain": [
              "<matplotlib.axes._subplots.AxesSubplot at 0x7ff896536a90>"
            ]
          },
          "metadata": {
            "tags": []
          },
          "execution_count": 127
        },
        {
          "output_type": "display_data",
          "data": {
            "image/png": "[encoded data removed]",
            "text/plain": [
              "<Figure size 432x288 with 2 Axes>"
            ]
          },
          "metadata": {
            "tags": []
          }
        }
      ]
    },
    {
      "cell_type": "code",
      "metadata": {
        "id": "iojsbUxm4RH9"
      },
      "source": [
        ""
      ],
      "execution_count": null,
      "outputs": []
    }
  ]
}